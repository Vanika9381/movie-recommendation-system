{
 "cells": [
  {
   "cell_type": "code",
   "execution_count": 1,
   "id": "5a10e511",
   "metadata": {},
   "outputs": [
    {
     "name": "stderr",
     "output_type": "stream",
     "text": [
      "Unknown command: '-f'\n",
      "Type 'ipykernel_launcher.py help' for usage.\n",
      "ERROR:root:Internal Python error in the inspect module.\n",
      "Below is the traceback from this internal error.\n",
      "\n"
     ]
    },
    {
     "name": "stdout",
     "output_type": "stream",
     "text": [
      "Traceback (most recent call last):\n",
      "  File \"C:\\Users\\kommu\\AppData\\Roaming\\Python\\Python37\\site-packages\\django\\core\\management\\__init__.py\", line 224, in fetch_command\n",
      "    app_name = commands[subcommand]\n",
      "KeyError: '-f'\n",
      "\n",
      "During handling of the above exception, another exception occurred:\n",
      "\n",
      "Traceback (most recent call last):\n",
      "  File \"D:\\anaconda\\anaconda\\envs\\env_Sid\\lib\\site-packages\\IPython\\core\\interactiveshell.py\", line 3457, in run_code\n",
      "    exec(code_obj, self.user_global_ns, self.user_ns)\n",
      "  File \"C:\\Users\\kommu\\AppData\\Local\\Temp\\ipykernel_17024\\384259145.py\", line 21, in <module>\n",
      "    main()\n",
      "  File \"C:\\Users\\kommu\\AppData\\Local\\Temp\\ipykernel_17024\\384259145.py\", line 17, in main\n",
      "    execute_from_command_line(sys.argv)\n",
      "  File \"C:\\Users\\kommu\\AppData\\Roaming\\Python\\Python37\\site-packages\\django\\core\\management\\__init__.py\", line 401, in execute_from_command_line\n",
      "    utility.execute()\n",
      "  File \"C:\\Users\\kommu\\AppData\\Roaming\\Python\\Python37\\site-packages\\django\\core\\management\\__init__.py\", line 395, in execute\n",
      "    self.fetch_command(subcommand).run_from_argv(self.argv)\n",
      "  File \"C:\\Users\\kommu\\AppData\\Roaming\\Python\\Python37\\site-packages\\django\\core\\management\\__init__.py\", line 239, in fetch_command\n",
      "    sys.exit(1)\n",
      "SystemExit: 1\n",
      "\n",
      "During handling of the above exception, another exception occurred:\n",
      "\n",
      "Traceback (most recent call last):\n",
      "  File \"D:\\anaconda\\anaconda\\envs\\env_Sid\\lib\\site-packages\\IPython\\core\\ultratb.py\", line 1101, in get_records\n",
      "    return _fixed_getinnerframes(etb, number_of_lines_of_context, tb_offset)\n",
      "  File \"D:\\anaconda\\anaconda\\envs\\env_Sid\\lib\\site-packages\\IPython\\core\\ultratb.py\", line 248, in wrapped\n",
      "    return f(*args, **kwargs)\n",
      "  File \"D:\\anaconda\\anaconda\\envs\\env_Sid\\lib\\site-packages\\IPython\\core\\ultratb.py\", line 281, in _fixed_getinnerframes\n",
      "    records = fix_frame_records_filenames(inspect.getinnerframes(etb, context))\n",
      "  File \"D:\\anaconda\\anaconda\\envs\\env_Sid\\lib\\inspect.py\", line 1502, in getinnerframes\n",
      "    frameinfo = (tb.tb_frame,) + getframeinfo(tb, context)\n",
      "AttributeError: 'tuple' object has no attribute 'tb_frame'\n"
     ]
    },
    {
     "ename": "TypeError",
     "evalue": "object of type 'NoneType' has no len()",
     "output_type": "error",
     "traceback": [
      "\u001b[1;31m---------------------------------------------------------------------------\u001b[0m",
      "\u001b[1;31mKeyError\u001b[0m                                  Traceback (most recent call last)",
      "\u001b[1;32m~\\AppData\\Roaming\\Python\\Python37\\site-packages\\django\\core\\management\\__init__.py\u001b[0m in \u001b[0;36mfetch_command\u001b[1;34m(self, subcommand)\u001b[0m\n\u001b[0;32m    223\u001b[0m         \u001b[1;32mtry\u001b[0m\u001b[1;33m:\u001b[0m\u001b[1;33m\u001b[0m\u001b[1;33m\u001b[0m\u001b[0m\n\u001b[1;32m--> 224\u001b[1;33m             \u001b[0mapp_name\u001b[0m \u001b[1;33m=\u001b[0m \u001b[0mcommands\u001b[0m\u001b[1;33m[\u001b[0m\u001b[0msubcommand\u001b[0m\u001b[1;33m]\u001b[0m\u001b[1;33m\u001b[0m\u001b[1;33m\u001b[0m\u001b[0m\n\u001b[0m\u001b[0;32m    225\u001b[0m         \u001b[1;32mexcept\u001b[0m \u001b[0mKeyError\u001b[0m\u001b[1;33m:\u001b[0m\u001b[1;33m\u001b[0m\u001b[1;33m\u001b[0m\u001b[0m\n",
      "\u001b[1;31mKeyError\u001b[0m: '-f'",
      "\nDuring handling of the above exception, another exception occurred:\n",
      "\u001b[1;31mSystemExit\u001b[0m                                Traceback (most recent call last)",
      "    \u001b[1;31m[... skipping hidden 1 frame]\u001b[0m\n",
      "\u001b[1;32m~\\AppData\\Local\\Temp\\ipykernel_17024\\384259145.py\u001b[0m in \u001b[0;36m<module>\u001b[1;34m\u001b[0m\n\u001b[0;32m     20\u001b[0m \u001b[1;32mif\u001b[0m \u001b[0m__name__\u001b[0m \u001b[1;33m==\u001b[0m \u001b[1;34m'__main__'\u001b[0m\u001b[1;33m:\u001b[0m\u001b[1;33m\u001b[0m\u001b[1;33m\u001b[0m\u001b[0m\n\u001b[1;32m---> 21\u001b[1;33m     \u001b[0mmain\u001b[0m\u001b[1;33m(\u001b[0m\u001b[1;33m)\u001b[0m\u001b[1;33m\u001b[0m\u001b[1;33m\u001b[0m\u001b[0m\n\u001b[0m",
      "\u001b[1;32m~\\AppData\\Local\\Temp\\ipykernel_17024\\384259145.py\u001b[0m in \u001b[0;36mmain\u001b[1;34m()\u001b[0m\n\u001b[0;32m     16\u001b[0m         ) from exc\n\u001b[1;32m---> 17\u001b[1;33m     \u001b[0mexecute_from_command_line\u001b[0m\u001b[1;33m(\u001b[0m\u001b[0msys\u001b[0m\u001b[1;33m.\u001b[0m\u001b[0margv\u001b[0m\u001b[1;33m)\u001b[0m\u001b[1;33m\u001b[0m\u001b[1;33m\u001b[0m\u001b[0m\n\u001b[0m\u001b[0;32m     18\u001b[0m \u001b[1;33m\u001b[0m\u001b[0m\n",
      "\u001b[1;32m~\\AppData\\Roaming\\Python\\Python37\\site-packages\\django\\core\\management\\__init__.py\u001b[0m in \u001b[0;36mexecute_from_command_line\u001b[1;34m(argv)\u001b[0m\n\u001b[0;32m    400\u001b[0m     \u001b[0mutility\u001b[0m \u001b[1;33m=\u001b[0m \u001b[0mManagementUtility\u001b[0m\u001b[1;33m(\u001b[0m\u001b[0margv\u001b[0m\u001b[1;33m)\u001b[0m\u001b[1;33m\u001b[0m\u001b[1;33m\u001b[0m\u001b[0m\n\u001b[1;32m--> 401\u001b[1;33m     \u001b[0mutility\u001b[0m\u001b[1;33m.\u001b[0m\u001b[0mexecute\u001b[0m\u001b[1;33m(\u001b[0m\u001b[1;33m)\u001b[0m\u001b[1;33m\u001b[0m\u001b[1;33m\u001b[0m\u001b[0m\n\u001b[0m",
      "\u001b[1;32m~\\AppData\\Roaming\\Python\\Python37\\site-packages\\django\\core\\management\\__init__.py\u001b[0m in \u001b[0;36mexecute\u001b[1;34m(self)\u001b[0m\n\u001b[0;32m    394\u001b[0m         \u001b[1;32melse\u001b[0m\u001b[1;33m:\u001b[0m\u001b[1;33m\u001b[0m\u001b[1;33m\u001b[0m\u001b[0m\n\u001b[1;32m--> 395\u001b[1;33m             \u001b[0mself\u001b[0m\u001b[1;33m.\u001b[0m\u001b[0mfetch_command\u001b[0m\u001b[1;33m(\u001b[0m\u001b[0msubcommand\u001b[0m\u001b[1;33m)\u001b[0m\u001b[1;33m.\u001b[0m\u001b[0mrun_from_argv\u001b[0m\u001b[1;33m(\u001b[0m\u001b[0mself\u001b[0m\u001b[1;33m.\u001b[0m\u001b[0margv\u001b[0m\u001b[1;33m)\u001b[0m\u001b[1;33m\u001b[0m\u001b[1;33m\u001b[0m\u001b[0m\n\u001b[0m\u001b[0;32m    396\u001b[0m \u001b[1;33m\u001b[0m\u001b[0m\n",
      "\u001b[1;32m~\\AppData\\Roaming\\Python\\Python37\\site-packages\\django\\core\\management\\__init__.py\u001b[0m in \u001b[0;36mfetch_command\u001b[1;34m(self, subcommand)\u001b[0m\n\u001b[0;32m    238\u001b[0m             \u001b[0msys\u001b[0m\u001b[1;33m.\u001b[0m\u001b[0mstderr\u001b[0m\u001b[1;33m.\u001b[0m\u001b[0mwrite\u001b[0m\u001b[1;33m(\u001b[0m\u001b[1;34m\"\\nType '%s help' for usage.\\n\"\u001b[0m \u001b[1;33m%\u001b[0m \u001b[0mself\u001b[0m\u001b[1;33m.\u001b[0m\u001b[0mprog_name\u001b[0m\u001b[1;33m)\u001b[0m\u001b[1;33m\u001b[0m\u001b[1;33m\u001b[0m\u001b[0m\n\u001b[1;32m--> 239\u001b[1;33m             \u001b[0msys\u001b[0m\u001b[1;33m.\u001b[0m\u001b[0mexit\u001b[0m\u001b[1;33m(\u001b[0m\u001b[1;36m1\u001b[0m\u001b[1;33m)\u001b[0m\u001b[1;33m\u001b[0m\u001b[1;33m\u001b[0m\u001b[0m\n\u001b[0m\u001b[0;32m    240\u001b[0m         \u001b[1;32mif\u001b[0m \u001b[0misinstance\u001b[0m\u001b[1;33m(\u001b[0m\u001b[0mapp_name\u001b[0m\u001b[1;33m,\u001b[0m \u001b[0mBaseCommand\u001b[0m\u001b[1;33m)\u001b[0m\u001b[1;33m:\u001b[0m\u001b[1;33m\u001b[0m\u001b[1;33m\u001b[0m\u001b[0m\n",
      "\u001b[1;31mSystemExit\u001b[0m: 1",
      "\nDuring handling of the above exception, another exception occurred:\n",
      "\u001b[1;31mTypeError\u001b[0m                                 Traceback (most recent call last)",
      "    \u001b[1;31m[... skipping hidden 1 frame]\u001b[0m\n",
      "\u001b[1;32mD:\\anaconda\\anaconda\\envs\\env_Sid\\lib\\site-packages\\IPython\\core\\interactiveshell.py\u001b[0m in \u001b[0;36mshowtraceback\u001b[1;34m(self, exc_tuple, filename, tb_offset, exception_only, running_compiled_code)\u001b[0m\n\u001b[0;32m   2069\u001b[0m                            'the full traceback.\\n']\n\u001b[0;32m   2070\u001b[0m                     stb.extend(self.InteractiveTB.get_exception_only(etype,\n\u001b[1;32m-> 2071\u001b[1;33m                                                                      value))\n\u001b[0m\u001b[0;32m   2072\u001b[0m                 \u001b[1;32melse\u001b[0m\u001b[1;33m:\u001b[0m\u001b[1;33m\u001b[0m\u001b[1;33m\u001b[0m\u001b[0m\n\u001b[0;32m   2073\u001b[0m                     \u001b[1;32mtry\u001b[0m\u001b[1;33m:\u001b[0m\u001b[1;33m\u001b[0m\u001b[1;33m\u001b[0m\u001b[0m\n",
      "\u001b[1;32mD:\\anaconda\\anaconda\\envs\\env_Sid\\lib\\site-packages\\IPython\\core\\ultratb.py\u001b[0m in \u001b[0;36mget_exception_only\u001b[1;34m(self, etype, value)\u001b[0m\n\u001b[0;32m    752\u001b[0m         \u001b[0mvalue\u001b[0m \u001b[1;33m:\u001b[0m \u001b[0mexception\u001b[0m \u001b[0mvalue\u001b[0m\u001b[1;33m\u001b[0m\u001b[1;33m\u001b[0m\u001b[0m\n\u001b[0;32m    753\u001b[0m         \"\"\"\n\u001b[1;32m--> 754\u001b[1;33m         \u001b[1;32mreturn\u001b[0m \u001b[0mListTB\u001b[0m\u001b[1;33m.\u001b[0m\u001b[0mstructured_traceback\u001b[0m\u001b[1;33m(\u001b[0m\u001b[0mself\u001b[0m\u001b[1;33m,\u001b[0m \u001b[0metype\u001b[0m\u001b[1;33m,\u001b[0m \u001b[0mvalue\u001b[0m\u001b[1;33m)\u001b[0m\u001b[1;33m\u001b[0m\u001b[1;33m\u001b[0m\u001b[0m\n\u001b[0m\u001b[0;32m    755\u001b[0m \u001b[1;33m\u001b[0m\u001b[0m\n\u001b[0;32m    756\u001b[0m     \u001b[1;32mdef\u001b[0m \u001b[0mshow_exception_only\u001b[0m\u001b[1;33m(\u001b[0m\u001b[0mself\u001b[0m\u001b[1;33m,\u001b[0m \u001b[0metype\u001b[0m\u001b[1;33m,\u001b[0m \u001b[0mevalue\u001b[0m\u001b[1;33m)\u001b[0m\u001b[1;33m:\u001b[0m\u001b[1;33m\u001b[0m\u001b[1;33m\u001b[0m\u001b[0m\n",
      "\u001b[1;32mD:\\anaconda\\anaconda\\envs\\env_Sid\\lib\\site-packages\\IPython\\core\\ultratb.py\u001b[0m in \u001b[0;36mstructured_traceback\u001b[1;34m(self, etype, evalue, etb, tb_offset, context)\u001b[0m\n\u001b[0;32m    631\u001b[0m                     chained_exceptions_tb_offset, context)\n\u001b[0;32m    632\u001b[0m                 \u001b[1;33m+\u001b[0m \u001b[0mchained_exception_message\u001b[0m\u001b[1;33m\u001b[0m\u001b[1;33m\u001b[0m\u001b[0m\n\u001b[1;32m--> 633\u001b[1;33m                 + out_list)\n\u001b[0m\u001b[0;32m    634\u001b[0m \u001b[1;33m\u001b[0m\u001b[0m\n\u001b[0;32m    635\u001b[0m         \u001b[1;32mreturn\u001b[0m \u001b[0mout_list\u001b[0m\u001b[1;33m\u001b[0m\u001b[1;33m\u001b[0m\u001b[0m\n",
      "\u001b[1;32mD:\\anaconda\\anaconda\\envs\\env_Sid\\lib\\site-packages\\IPython\\core\\ultratb.py\u001b[0m in \u001b[0;36mstructured_traceback\u001b[1;34m(self, etype, value, tb, tb_offset, number_of_lines_of_context)\u001b[0m\n\u001b[0;32m   1366\u001b[0m             \u001b[0mself\u001b[0m\u001b[1;33m.\u001b[0m\u001b[0mtb\u001b[0m \u001b[1;33m=\u001b[0m \u001b[0mtb\u001b[0m\u001b[1;33m\u001b[0m\u001b[1;33m\u001b[0m\u001b[0m\n\u001b[0;32m   1367\u001b[0m         return FormattedTB.structured_traceback(\n\u001b[1;32m-> 1368\u001b[1;33m             self, etype, value, tb, tb_offset, number_of_lines_of_context)\n\u001b[0m\u001b[0;32m   1369\u001b[0m \u001b[1;33m\u001b[0m\u001b[0m\n\u001b[0;32m   1370\u001b[0m \u001b[1;33m\u001b[0m\u001b[0m\n",
      "\u001b[1;32mD:\\anaconda\\anaconda\\envs\\env_Sid\\lib\\site-packages\\IPython\\core\\ultratb.py\u001b[0m in \u001b[0;36mstructured_traceback\u001b[1;34m(self, etype, value, tb, tb_offset, number_of_lines_of_context)\u001b[0m\n\u001b[0;32m   1266\u001b[0m             \u001b[1;31m# Verbose modes need a full traceback\u001b[0m\u001b[1;33m\u001b[0m\u001b[1;33m\u001b[0m\u001b[1;33m\u001b[0m\u001b[0m\n\u001b[0;32m   1267\u001b[0m             return VerboseTB.structured_traceback(\n\u001b[1;32m-> 1268\u001b[1;33m                 \u001b[0mself\u001b[0m\u001b[1;33m,\u001b[0m \u001b[0metype\u001b[0m\u001b[1;33m,\u001b[0m \u001b[0mvalue\u001b[0m\u001b[1;33m,\u001b[0m \u001b[0mtb\u001b[0m\u001b[1;33m,\u001b[0m \u001b[0mtb_offset\u001b[0m\u001b[1;33m,\u001b[0m \u001b[0mnumber_of_lines_of_context\u001b[0m\u001b[1;33m\u001b[0m\u001b[1;33m\u001b[0m\u001b[0m\n\u001b[0m\u001b[0;32m   1269\u001b[0m             )\n\u001b[0;32m   1270\u001b[0m         \u001b[1;32melif\u001b[0m \u001b[0mmode\u001b[0m \u001b[1;33m==\u001b[0m \u001b[1;34m'Minimal'\u001b[0m\u001b[1;33m:\u001b[0m\u001b[1;33m\u001b[0m\u001b[1;33m\u001b[0m\u001b[0m\n",
      "\u001b[1;32mD:\\anaconda\\anaconda\\envs\\env_Sid\\lib\\site-packages\\IPython\\core\\ultratb.py\u001b[0m in \u001b[0;36mstructured_traceback\u001b[1;34m(self, etype, evalue, etb, tb_offset, number_of_lines_of_context)\u001b[0m\n\u001b[0;32m   1123\u001b[0m \u001b[1;33m\u001b[0m\u001b[0m\n\u001b[0;32m   1124\u001b[0m         formatted_exception = self.format_exception_as_a_whole(etype, evalue, etb, number_of_lines_of_context,\n\u001b[1;32m-> 1125\u001b[1;33m                                                                tb_offset)\n\u001b[0m\u001b[0;32m   1126\u001b[0m \u001b[1;33m\u001b[0m\u001b[0m\n\u001b[0;32m   1127\u001b[0m         \u001b[0mcolors\u001b[0m \u001b[1;33m=\u001b[0m \u001b[0mself\u001b[0m\u001b[1;33m.\u001b[0m\u001b[0mColors\u001b[0m  \u001b[1;31m# just a shorthand + quicker name lookup\u001b[0m\u001b[1;33m\u001b[0m\u001b[1;33m\u001b[0m\u001b[0m\n",
      "\u001b[1;32mD:\\anaconda\\anaconda\\envs\\env_Sid\\lib\\site-packages\\IPython\\core\\ultratb.py\u001b[0m in \u001b[0;36mformat_exception_as_a_whole\u001b[1;34m(self, etype, evalue, etb, number_of_lines_of_context, tb_offset)\u001b[0m\n\u001b[0;32m   1080\u001b[0m \u001b[1;33m\u001b[0m\u001b[0m\n\u001b[0;32m   1081\u001b[0m \u001b[1;33m\u001b[0m\u001b[0m\n\u001b[1;32m-> 1082\u001b[1;33m         \u001b[0mlast_unique\u001b[0m\u001b[1;33m,\u001b[0m \u001b[0mrecursion_repeat\u001b[0m \u001b[1;33m=\u001b[0m \u001b[0mfind_recursion\u001b[0m\u001b[1;33m(\u001b[0m\u001b[0morig_etype\u001b[0m\u001b[1;33m,\u001b[0m \u001b[0mevalue\u001b[0m\u001b[1;33m,\u001b[0m \u001b[0mrecords\u001b[0m\u001b[1;33m)\u001b[0m\u001b[1;33m\u001b[0m\u001b[1;33m\u001b[0m\u001b[0m\n\u001b[0m\u001b[0;32m   1083\u001b[0m \u001b[1;33m\u001b[0m\u001b[0m\n\u001b[0;32m   1084\u001b[0m         \u001b[0mframes\u001b[0m \u001b[1;33m=\u001b[0m \u001b[0mself\u001b[0m\u001b[1;33m.\u001b[0m\u001b[0mformat_records\u001b[0m\u001b[1;33m(\u001b[0m\u001b[0mrecords\u001b[0m\u001b[1;33m,\u001b[0m \u001b[0mlast_unique\u001b[0m\u001b[1;33m,\u001b[0m \u001b[0mrecursion_repeat\u001b[0m\u001b[1;33m)\u001b[0m\u001b[1;33m\u001b[0m\u001b[1;33m\u001b[0m\u001b[0m\n",
      "\u001b[1;32mD:\\anaconda\\anaconda\\envs\\env_Sid\\lib\\site-packages\\IPython\\core\\ultratb.py\u001b[0m in \u001b[0;36mfind_recursion\u001b[1;34m(etype, value, records)\u001b[0m\n\u001b[0;32m    380\u001b[0m     \u001b[1;31m# first frame (from in to out) that looks different.\u001b[0m\u001b[1;33m\u001b[0m\u001b[1;33m\u001b[0m\u001b[1;33m\u001b[0m\u001b[0m\n\u001b[0;32m    381\u001b[0m     \u001b[1;32mif\u001b[0m \u001b[1;32mnot\u001b[0m \u001b[0mis_recursion_error\u001b[0m\u001b[1;33m(\u001b[0m\u001b[0metype\u001b[0m\u001b[1;33m,\u001b[0m \u001b[0mvalue\u001b[0m\u001b[1;33m,\u001b[0m \u001b[0mrecords\u001b[0m\u001b[1;33m)\u001b[0m\u001b[1;33m:\u001b[0m\u001b[1;33m\u001b[0m\u001b[1;33m\u001b[0m\u001b[0m\n\u001b[1;32m--> 382\u001b[1;33m         \u001b[1;32mreturn\u001b[0m \u001b[0mlen\u001b[0m\u001b[1;33m(\u001b[0m\u001b[0mrecords\u001b[0m\u001b[1;33m)\u001b[0m\u001b[1;33m,\u001b[0m \u001b[1;36m0\u001b[0m\u001b[1;33m\u001b[0m\u001b[1;33m\u001b[0m\u001b[0m\n\u001b[0m\u001b[0;32m    383\u001b[0m \u001b[1;33m\u001b[0m\u001b[0m\n\u001b[0;32m    384\u001b[0m     \u001b[1;31m# Select filename, lineno, func_name to track frames with\u001b[0m\u001b[1;33m\u001b[0m\u001b[1;33m\u001b[0m\u001b[1;33m\u001b[0m\u001b[0m\n",
      "\u001b[1;31mTypeError\u001b[0m: object of type 'NoneType' has no len()"
     ]
    }
   ],
   "source": [
    "#!/usr/bin/env python\n",
    "\"\"\"Django's command-line utility for administrative tasks.\"\"\"\n",
    "import os\n",
    "import sys\n",
    "\n",
    "\n",
    "def main():\n",
    "    os.environ.setdefault('DJANGO_SETTINGS_MODULE', 'movie_recommender.settings')\n",
    "    try:\n",
    "        from django.core.management import execute_from_command_line\n",
    "    except ImportError as exc:\n",
    "        raise ImportError(\n",
    "            \"Couldn't import Django. Are you sure it's installed and \"\n",
    "            \"available on your PYTHONPATH environment variable? Did you \"\n",
    "            \"forget to activate a virtual environment?\"\n",
    "        ) from exc\n",
    "    execute_from_command_line(sys.argv)\n",
    "\n",
    "\n",
    "if __name__ == '__main__':\n",
    "    main()\n"
   ]
  },
  {
   "cell_type": "code",
   "execution_count": 2,
   "id": "2bebb811",
   "metadata": {},
   "outputs": [
    {
     "name": "stdout",
     "output_type": "stream",
     "text": [
      "Defaulting to user installation because normal site-packages is not writeable\n",
      "Requirement already satisfied: asgiref==3.2.7 in c:\\users\\kommu\\appdata\\roaming\\python\\python37\\site-packages (from -r requirements.txt (line 1)) (3.2.7)\n",
      "Requirement already satisfied: boto3==1.14.1 in c:\\users\\kommu\\appdata\\roaming\\python\\python37\\site-packages (from -r requirements.txt (line 2)) (1.14.1)\n",
      "Requirement already satisfied: botocore==1.17.1 in c:\\users\\kommu\\appdata\\roaming\\python\\python37\\site-packages (from -r requirements.txt (line 3)) (1.17.1)\n",
      "Requirement already satisfied: Django==3.0.6 in c:\\users\\kommu\\appdata\\roaming\\python\\python37\\site-packages (from -r requirements.txt (line 4)) (3.0.6)\n",
      "Requirement already satisfied: django-storages==1.9.1 in c:\\users\\kommu\\appdata\\roaming\\python\\python37\\site-packages (from -r requirements.txt (line 5)) (1.9.1)\n",
      "Requirement already satisfied: docutils==0.15.2 in c:\\users\\kommu\\appdata\\roaming\\python\\python37\\site-packages (from -r requirements.txt (line 6)) (0.15.2)\n",
      "Requirement already satisfied: gunicorn==20.0.4 in c:\\users\\kommu\\appdata\\roaming\\python\\python37\\site-packages (from -r requirements.txt (line 7)) (20.0.4)\n",
      "Requirement already satisfied: idna==2.9 in c:\\users\\kommu\\appdata\\roaming\\python\\python37\\site-packages (from -r requirements.txt (line 8)) (2.9)\n",
      "Requirement already satisfied: jmespath==0.10.0 in c:\\users\\kommu\\appdata\\roaming\\python\\python37\\site-packages (from -r requirements.txt (line 9)) (0.10.0)\n",
      "Requirement already satisfied: numpy==1.18.5 in c:\\users\\kommu\\appdata\\roaming\\python\\python37\\site-packages (from -r requirements.txt (line 10)) (1.18.5)\n",
      "Requirement already satisfied: pandas==1.0.4 in c:\\users\\kommu\\appdata\\roaming\\python\\python37\\site-packages (from -r requirements.txt (line 11)) (1.0.4)\n",
      "Requirement already satisfied: Pillow==7.1.2 in c:\\users\\kommu\\appdata\\roaming\\python\\python37\\site-packages (from -r requirements.txt (line 12)) (7.1.2)\n",
      "Requirement already satisfied: python-dateutil==2.8.1 in c:\\users\\kommu\\appdata\\roaming\\python\\python37\\site-packages (from -r requirements.txt (line 13)) (2.8.1)\n",
      "Requirement already satisfied: pytz==2020.1 in c:\\users\\kommu\\appdata\\roaming\\python\\python37\\site-packages (from -r requirements.txt (line 14)) (2020.1)\n",
      "Requirement already satisfied: recommend==0.2.2 in c:\\users\\kommu\\appdata\\roaming\\python\\python37\\site-packages (from -r requirements.txt (line 15)) (0.2.2)\n",
      "Requirement already satisfied: requests==2.23.0 in c:\\users\\kommu\\appdata\\roaming\\python\\python37\\site-packages (from -r requirements.txt (line 16)) (2.23.0)\n",
      "Requirement already satisfied: s3transfer==0.3.3 in c:\\users\\kommu\\appdata\\roaming\\python\\python37\\site-packages (from -r requirements.txt (line 17)) (0.3.3)\n",
      "Requirement already satisfied: scipy==1.4.1 in c:\\users\\kommu\\appdata\\roaming\\python\\python37\\site-packages (from -r requirements.txt (line 18)) (1.4.1)\n",
      "Requirement already satisfied: six==1.15.0 in c:\\users\\kommu\\appdata\\roaming\\python\\python37\\site-packages (from -r requirements.txt (line 19)) (1.15.0)\n",
      "Requirement already satisfied: sqlparse==0.3.1 in c:\\users\\kommu\\appdata\\roaming\\python\\python37\\site-packages (from -r requirements.txt (line 20)) (0.3.1)\n",
      "Requirement already satisfied: urllib3==1.25.9 in c:\\users\\kommu\\appdata\\roaming\\python\\python37\\site-packages (from -r requirements.txt (line 21)) (1.25.9)\n",
      "Requirement already satisfied: whitenoise==5.1.0 in c:\\users\\kommu\\appdata\\roaming\\python\\python37\\site-packages (from -r requirements.txt (line 22)) (5.1.0)\n",
      "Requirement already satisfied: setuptools>=3.0 in d:\\anaconda\\anaconda\\envs\\env_sid\\lib\\site-packages (from gunicorn==20.0.4->-r requirements.txt (line 7)) (65.6.3)\n",
      "Requirement already satisfied: chardet<4,>=3.0.2 in c:\\users\\kommu\\appdata\\roaming\\python\\python37\\site-packages (from requests==2.23.0->-r requirements.txt (line 16)) (3.0.4)\n",
      "Requirement already satisfied: certifi>=2017.4.17 in d:\\anaconda\\anaconda\\envs\\env_sid\\lib\\site-packages (from requests==2.23.0->-r requirements.txt (line 16)) (2022.12.7)\n",
      "Note: you may need to restart the kernel to use updated packages.\n"
     ]
    }
   ],
   "source": [
    "pip install -r requirements.txt\n"
   ]
  },
  {
   "cell_type": "code",
   "execution_count": 3,
   "id": "ded9fba8",
   "metadata": {},
   "outputs": [
    {
     "name": "stdout",
     "output_type": "stream",
     "text": [
      "Defaulting to user installation because normal site-packages is not writeable\n",
      "Requirement already satisfied: Django in c:\\users\\kommu\\appdata\\roaming\\python\\python37\\site-packages (3.0.6)\n",
      "Collecting Django\n",
      "  Downloading Django-3.2.23-py3-none-any.whl (7.9 MB)\n",
      "     ---------------------------------------- 7.9/7.9 MB 3.8 MB/s eta 0:00:00\n",
      "Requirement already satisfied: sqlparse>=0.2.2 in c:\\users\\kommu\\appdata\\roaming\\python\\python37\\site-packages (from Django) (0.3.1)\n",
      "Requirement already satisfied: pytz in c:\\users\\kommu\\appdata\\roaming\\python\\python37\\site-packages (from Django) (2020.1)\n",
      "Collecting asgiref<4,>=3.3.2\n",
      "  Using cached asgiref-3.7.2-py3-none-any.whl (24 kB)\n",
      "Requirement already satisfied: typing-extensions>=4 in d:\\anaconda\\anaconda\\envs\\env_sid\\lib\\site-packages (from asgiref<4,>=3.3.2->Django) (4.7.1)\n",
      "Installing collected packages: asgiref, Django\n",
      "  Attempting uninstall: asgiref\n",
      "    Found existing installation: asgiref 3.2.7\n",
      "    Uninstalling asgiref-3.2.7:\n",
      "      Successfully uninstalled asgiref-3.2.7\n",
      "  Attempting uninstall: Django\n",
      "    Found existing installation: Django 3.0.6\n",
      "    Uninstalling Django-3.0.6:\n",
      "      Successfully uninstalled Django-3.0.6\n",
      "Successfully installed Django-3.2.23 asgiref-3.7.2\n",
      "Note: you may need to restart the kernel to use updated packages.\n"
     ]
    },
    {
     "name": "stderr",
     "output_type": "stream",
     "text": [
      "  WARNING: The script django-admin.exe is installed in 'C:\\Users\\kommu\\AppData\\Roaming\\Python\\Python37\\Scripts' which is not on PATH.\n",
      "  Consider adding this directory to PATH or, if you prefer to suppress this warning, use --no-warn-script-location.\n"
     ]
    }
   ],
   "source": [
    "pip install --upgrade Django\n"
   ]
  },
  {
   "cell_type": "code",
   "execution_count": 5,
   "id": "b44a6879",
   "metadata": {},
   "outputs": [
    {
     "ename": "SyntaxError",
     "evalue": "invalid syntax (3471929732.py, line 1)",
     "output_type": "error",
     "traceback": [
      "\u001b[1;36m  File \u001b[1;32m\"C:\\Users\\kommu\\AppData\\Local\\Temp\\ipykernel_17024\\3471929732.py\"\u001b[1;36m, line \u001b[1;32m1\u001b[0m\n\u001b[1;33m    python -m venv\u001b[0m\n\u001b[1;37m                 ^\u001b[0m\n\u001b[1;31mSyntaxError\u001b[0m\u001b[1;31m:\u001b[0m invalid syntax\n"
     ]
    }
   ],
   "source": [
    "python -m venv \n"
   ]
  },
  {
   "cell_type": "code",
   "execution_count": 6,
   "id": "f11e2f26",
   "metadata": {},
   "outputs": [
    {
     "ename": "SyntaxError",
     "evalue": "invalid syntax (2037627440.py, line 1)",
     "output_type": "error",
     "traceback": [
      "\u001b[1;36m  File \u001b[1;32m\"C:\\Users\\kommu\\AppData\\Local\\Temp\\ipykernel_17024\\2037627440.py\"\u001b[1;36m, line \u001b[1;32m1\u001b[0m\n\u001b[1;33m    python manage.py runserver\u001b[0m\n\u001b[1;37m                ^\u001b[0m\n\u001b[1;31mSyntaxError\u001b[0m\u001b[1;31m:\u001b[0m invalid syntax\n"
     ]
    }
   ],
   "source": [
    "python manage.py runserver"
   ]
  },
  {
   "cell_type": "code",
   "execution_count": 7,
   "id": "92515031",
   "metadata": {},
   "outputs": [
    {
     "ename": "SyntaxError",
     "evalue": "invalid syntax (1812249672.py, line 1)",
     "output_type": "error",
     "traceback": [
      "\u001b[1;36m  File \u001b[1;32m\"C:\\Users\\kommu\\AppData\\Local\\Temp\\ipykernel_17024\\1812249672.py\"\u001b[1;36m, line \u001b[1;32m1\u001b[0m\n\u001b[1;33m    python3 -m venv venv\u001b[0m\n\u001b[1;37m                  ^\u001b[0m\n\u001b[1;31mSyntaxError\u001b[0m\u001b[1;31m:\u001b[0m invalid syntax\n"
     ]
    }
   ],
   "source": [
    "python3 -m venv venv\n"
   ]
  },
  {
   "cell_type": "code",
   "execution_count": null,
   "id": "9bafdbd1",
   "metadata": {},
   "outputs": [],
   "source": []
  }
 ],
 "metadata": {
  "kernelspec": {
   "display_name": "Python 3 (ipykernel)",
   "language": "python",
   "name": "python3"
  },
  "language_info": {
   "codemirror_mode": {
    "name": "ipython",
    "version": 3
   },
   "file_extension": ".py",
   "mimetype": "text/x-python",
   "name": "python",
   "nbconvert_exporter": "python",
   "pygments_lexer": "ipython3",
   "version": "3.7.16"
  }
 },
 "nbformat": 4,
 "nbformat_minor": 5
}
